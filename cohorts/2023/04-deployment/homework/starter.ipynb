{
 "cells": [
  {
   "cell_type": "code",
   "execution_count": 1,
   "id": "2c51efaa",
   "metadata": {},
   "outputs": [
    {
     "name": "stdout",
     "output_type": "stream",
     "text": [
      "scikit-learn @ file:///croot/scikit-learn_1680198742267/work\n",
      "scikit-learn-intelex==20230426.111118\n"
     ]
    }
   ],
   "source": [
    "!pip freeze | grep scikit-learn"
   ]
  },
  {
   "cell_type": "code",
   "execution_count": 11,
   "id": "0ef880a0",
   "metadata": {},
   "outputs": [],
   "source": [
    "import pickle\n",
    "import pandas as pd\n",
    "import numpy as np\n",
    "from sklearn.metrics import mean_squared_error"
   ]
  },
  {
   "cell_type": "code",
   "execution_count": 3,
   "id": "7836ccfd",
   "metadata": {},
   "outputs": [],
   "source": [
    "with open('model.bin', 'rb') as f_in:\n",
    "    dv, model = pickle.load(f_in)"
   ]
  },
  {
   "cell_type": "code",
   "execution_count": 4,
   "id": "41c08294",
   "metadata": {},
   "outputs": [],
   "source": [
    "categorical = ['PULocationID', 'DOLocationID']\n",
    "\n",
    "def read_data(filename):\n",
    "    df = pd.read_parquet(filename)\n",
    "    \n",
    "    df['duration'] = df.tpep_dropoff_datetime - df.tpep_pickup_datetime\n",
    "    df['duration'] = df.duration.dt.total_seconds() / 60\n",
    "\n",
    "    df = df[(df.duration >= 1) & (df.duration <= 60)].copy()\n",
    "\n",
    "    df[categorical] = df[categorical].fillna(-1).astype('int').astype('str')\n",
    "    \n",
    "    return df"
   ]
  },
  {
   "cell_type": "code",
   "execution_count": 5,
   "id": "4854399a",
   "metadata": {},
   "outputs": [],
   "source": [
    "df = read_data('https://d37ci6vzurychx.cloudfront.net/trip-data/yellow_tripdata_2022-02.parquet')"
   ]
  },
  {
   "cell_type": "code",
   "execution_count": 7,
   "id": "669fda0a",
   "metadata": {},
   "outputs": [
    {
     "name": "stdout",
     "output_type": "stream",
     "text": [
      "[18.52778307 23.06578208 33.68635854 23.75743618 21.49290439 10.87341161\n",
      " 21.52087965 10.16400086 17.52115575 16.90379088]\n"
     ]
    }
   ],
   "source": [
    "dicts = df[categorical].to_dict(orient='records')\n",
    "X_val = dv.transform(dicts)\n",
    "y_pred = model.predict(X_val)\n"
   ]
  },
  {
   "cell_type": "code",
   "execution_count": 16,
   "id": "e4632bb5",
   "metadata": {},
   "outputs": [
    {
     "name": "stdout",
     "output_type": "stream",
     "text": [
      "standard deviation: 5.28\n"
     ]
    }
   ],
   "source": [
    "print(f'Q1. Answer: standard deviation: {np.std(y_pred):.2f}')"
   ]
  },
  {
   "cell_type": "code",
   "execution_count": 18,
   "id": "3dc5d9a3",
   "metadata": {},
   "outputs": [],
   "source": [
    "\n",
    "from datetime import datetime\n",
    "today = datetime.today()\n",
    "df['ride_id'] = f'{today.year:04d}/{today.month:02d}_' + df.index.astype('str')\n",
    "dicts = df[categorical].to_dict(orient='records')\n",
    "X_val = dv.transform(dicts)\n",
    "y_pred = model.predict(X_val)\n",
    "\n",
    "df_result = pd.DataFrame()\n",
    "df_result['ride_id'] = df['ride_id']\n",
    "df_result['predicted_duration'] = y_pred\n",
    "\n",
    "output_file = '04-deployment-Q2-predictions.parquet'\n",
    "\n",
    "df_result.to_parquet(\n",
    "    output_file,\n",
    "    engine='pyarrow',\n",
    "    compression=None,\n",
    "    index=False\n",
    ")\n",
    "\n"
   ]
  },
  {
   "cell_type": "code",
   "execution_count": 20,
   "id": "57ecd25a",
   "metadata": {},
   "outputs": [
    {
     "name": "stdout",
     "output_type": "stream",
     "text": [
      "total 58M\n",
      "-rw-rw-r-- 1 ubuntu ubuntu  58M Jun 19 09:15 04-deployment-Q2-predictions.parquet\n",
      "-rw-rw-r-- 1 ubuntu ubuntu   77 Jun 19 08:56 Dockerfile\n",
      "-rw-rw-r-- 1 ubuntu ubuntu  17K Jun 19 08:56 model.bin\n",
      "-rw-rw-r-- 1 ubuntu ubuntu 4.5K Jun 19 09:16 starter.ipynb\n"
     ]
    }
   ],
   "source": [
    "!ls -hl\n",
    "# Q2. answer 58M"
   ]
  },
  {
   "attachments": {},
   "cell_type": "markdown",
   "id": "6e92cdd1",
   "metadata": {},
   "source": [
    "Q3. Answer: !jupyter nbconvert --to python starter.ipynb"
   ]
  },
  {
   "cell_type": "code",
   "execution_count": 21,
   "id": "0a440f7f",
   "metadata": {},
   "outputs": [
    {
     "name": "stdout",
     "output_type": "stream",
     "text": [
      "[NbConvertApp] Converting notebook starter.ipynb to python\n",
      "[NbConvertApp] Writing 1707 bytes to starter.py\n"
     ]
    }
   ],
   "source": [
    "!jupyter nbconvert --to python starter.ipynb"
   ]
  },
  {
   "attachments": {},
   "cell_type": "markdown",
   "id": "80c72e3b",
   "metadata": {},
   "source": [
    "Q4. Answer: 065e9673e24e0dc5113e2dd2b4ca30c9d8aa2fa90f4c0597241c93b63130d233\n",
    "Q5. Answer: 12.76\n",
    "Q6. Answer: 12.83"
   ]
  }
 ],
 "metadata": {
  "kernelspec": {
   "display_name": "Python 3 (ipykernel)",
   "language": "python",
   "name": "python3"
  },
  "language_info": {
   "codemirror_mode": {
    "name": "ipython",
    "version": 3
   },
   "file_extension": ".py",
   "mimetype": "text/x-python",
   "name": "python",
   "nbconvert_exporter": "python",
   "pygments_lexer": "ipython3",
   "version": "3.9.16"
  }
 },
 "nbformat": 4,
 "nbformat_minor": 5
}
